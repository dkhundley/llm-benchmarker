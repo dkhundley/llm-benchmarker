{
 "cells": [
  {
   "cell_type": "markdown",
   "metadata": {},
   "source": [
    "# A Guide to LLM Benchmarks\n",
    "\n",
    "Every time a breakthrough LLM is surfaced to the public, it generally touts several numbers that sound impressive, yet, if we're really honest with ourselves, we don't know what those numbers really mean. The goal of this guide is to help give you a general high level overview of what each LLM benchmark represents. (Stretch goal: Get code working for all of them.)\n",
    "\n",
    "(COME BACK FOR MORE OF AN INTRODUCTION.)\n",
    "\n",
    "(LIST OF BENCHMARKS? CATEGORIES OF BENCHMARKS?)"
   ]
  },
  {
   "cell_type": "markdown",
   "metadata": {},
   "source": [
    "## Notebook Setup"
   ]
  },
  {
   "cell_type": "code",
   "execution_count": 1,
   "metadata": {},
   "outputs": [],
   "source": [
    "# Importing the necessary Python libraries\n",
    "import os\n",
    "import yaml\n",
    "from datasets import load_dataset\n",
    "\n",
    "from langchain_core.messages import HumanMessage, SystemMessage\n",
    "from langchain_openai import ChatOpenAI\n"
   ]
  },
  {
   "cell_type": "markdown",
   "metadata": {},
   "source": [
    "## (Category 1) Benchmarks"
   ]
  },
  {
   "cell_type": "markdown",
   "metadata": {},
   "source": [
    "### MMLU"
   ]
  },
  {
   "cell_type": "code",
   "execution_count": 2,
   "metadata": {},
   "outputs": [
    {
     "name": "stderr",
     "output_type": "stream",
     "text": [
      "/opt/homebrew/lib/python3.11/site-packages/datasets/load.py:1429: FutureWarning: The repository for cais/mmlu contains custom code which must be executed to correctly load the dataset. You can inspect the repository content at https://hf.co/datasets/cais/mmlu\n",
      "You can avoid this message in future by passing the argument `trust_remote_code=True`.\n",
      "Passing `trust_remote_code=True` will be mandatory to load this dataset from the next major release of `datasets`.\n",
      "  warnings.warn(\n"
     ]
    }
   ],
   "source": [
    "# (Down)loading the MMLU dataset from HuggingFace\n",
    "mmlu_dataset = load_dataset(path = 'cais/mmlu',\n",
    "                            name = 'all',\n",
    "                            cache_dir = '../data/')"
   ]
  },
  {
   "cell_type": "code",
   "execution_count": 3,
   "metadata": {},
   "outputs": [],
   "source": [
    "df_mmlu = mmlu_dataset['auxiliary_train'].to_pandas()"
   ]
  },
  {
   "cell_type": "code",
   "execution_count": 4,
   "metadata": {},
   "outputs": [
    {
     "data": {
      "text/plain": [
       "DatasetDict({\n",
       "    auxiliary_train: Dataset({\n",
       "        features: ['question', 'subject', 'choices', 'answer'],\n",
       "        num_rows: 99842\n",
       "    })\n",
       "    test: Dataset({\n",
       "        features: ['question', 'subject', 'choices', 'answer'],\n",
       "        num_rows: 14042\n",
       "    })\n",
       "    validation: Dataset({\n",
       "        features: ['question', 'subject', 'choices', 'answer'],\n",
       "        num_rows: 1531\n",
       "    })\n",
       "    dev: Dataset({\n",
       "        features: ['question', 'subject', 'choices', 'answer'],\n",
       "        num_rows: 285\n",
       "    })\n",
       "})"
      ]
     },
     "execution_count": 4,
     "metadata": {},
     "output_type": "execute_result"
    }
   ],
   "source": [
    "mmlu_dataset"
   ]
  },
  {
   "cell_type": "code",
   "execution_count": 5,
   "metadata": {},
   "outputs": [],
   "source": [
    "df_mmlu_dev = mmlu_dataset['dev'].to_pandas()"
   ]
  },
  {
   "cell_type": "code",
   "execution_count": 6,
   "metadata": {},
   "outputs": [
    {
     "data": {
      "text/html": [
       "<div>\n",
       "<style scoped>\n",
       "    .dataframe tbody tr th:only-of-type {\n",
       "        vertical-align: middle;\n",
       "    }\n",
       "\n",
       "    .dataframe tbody tr th {\n",
       "        vertical-align: top;\n",
       "    }\n",
       "\n",
       "    .dataframe thead th {\n",
       "        text-align: right;\n",
       "    }\n",
       "</style>\n",
       "<table border=\"1\" class=\"dataframe\">\n",
       "  <thead>\n",
       "    <tr style=\"text-align: right;\">\n",
       "      <th></th>\n",
       "      <th>question</th>\n",
       "      <th>subject</th>\n",
       "      <th>choices</th>\n",
       "      <th>answer</th>\n",
       "    </tr>\n",
       "  </thead>\n",
       "  <tbody>\n",
       "    <tr>\n",
       "      <th>0</th>\n",
       "      <td>Box a nongovernmental not-for-profit organizat...</td>\n",
       "      <td>professional_accounting</td>\n",
       "      <td>[$70,000, $75,000, $80,000, 100000]</td>\n",
       "      <td>3</td>\n",
       "    </tr>\n",
       "    <tr>\n",
       "      <th>1</th>\n",
       "      <td>One hundred years ago, your great-great-grandm...</td>\n",
       "      <td>professional_accounting</td>\n",
       "      <td>[$13,000, $600, $15,000, $28,000]</td>\n",
       "      <td>0</td>\n",
       "    </tr>\n",
       "    <tr>\n",
       "      <th>2</th>\n",
       "      <td>Krete is an unmarried taxpayer with income exc...</td>\n",
       "      <td>professional_accounting</td>\n",
       "      <td>[$0, $500, $1,650, $16,500]</td>\n",
       "      <td>0</td>\n",
       "    </tr>\n",
       "    <tr>\n",
       "      <th>3</th>\n",
       "      <td>On January 1, year 1, Alpha Co. signed an annu...</td>\n",
       "      <td>professional_accounting</td>\n",
       "      <td>[$5,000, $13,500, $16,000, $20,000]</td>\n",
       "      <td>1</td>\n",
       "    </tr>\n",
       "    <tr>\n",
       "      <th>4</th>\n",
       "      <td>An auditor traces the serial numbers on equipm...</td>\n",
       "      <td>professional_accounting</td>\n",
       "      <td>[Valuation and allocation, Completeness, Right...</td>\n",
       "      <td>1</td>\n",
       "    </tr>\n",
       "    <tr>\n",
       "      <th>...</th>\n",
       "      <td>...</td>\n",
       "      <td>...</td>\n",
       "      <td>...</td>\n",
       "      <td>...</td>\n",
       "    </tr>\n",
       "    <tr>\n",
       "      <th>280</th>\n",
       "      <td>Which of the following conditions will ensure ...</td>\n",
       "      <td>high_school_physics</td>\n",
       "      <td>[I and II only, I and III only, II and III onl...</td>\n",
       "      <td>3</td>\n",
       "    </tr>\n",
       "    <tr>\n",
       "      <th>281</th>\n",
       "      <td>A pipe full of air is closed at one end. A sta...</td>\n",
       "      <td>high_school_physics</td>\n",
       "      <td>[The pressure is at a node, but the particle d...</td>\n",
       "      <td>1</td>\n",
       "    </tr>\n",
       "    <tr>\n",
       "      <th>282</th>\n",
       "      <td>A photocell of work function ϕ = 2eV is connec...</td>\n",
       "      <td>high_school_physics</td>\n",
       "      <td>[2:00 AM, 6:00 AM, 12:00 AM, 24 A]</td>\n",
       "      <td>3</td>\n",
       "    </tr>\n",
       "    <tr>\n",
       "      <th>283</th>\n",
       "      <td>A microwave oven is connected to an outlet, 12...</td>\n",
       "      <td>high_school_physics</td>\n",
       "      <td>[10 W, 30 W, 60 W, 240 W]</td>\n",
       "      <td>3</td>\n",
       "    </tr>\n",
       "    <tr>\n",
       "      <th>284</th>\n",
       "      <td>A point charge, Q = +1 mC, is fixed at the ori...</td>\n",
       "      <td>high_school_physics</td>\n",
       "      <td>[3.5 J, 6.0 J, 22.5 J, 40 J]</td>\n",
       "      <td>1</td>\n",
       "    </tr>\n",
       "  </tbody>\n",
       "</table>\n",
       "<p>285 rows × 4 columns</p>\n",
       "</div>"
      ],
      "text/plain": [
       "                                              question  \\\n",
       "0    Box a nongovernmental not-for-profit organizat...   \n",
       "1    One hundred years ago, your great-great-grandm...   \n",
       "2    Krete is an unmarried taxpayer with income exc...   \n",
       "3    On January 1, year 1, Alpha Co. signed an annu...   \n",
       "4    An auditor traces the serial numbers on equipm...   \n",
       "..                                                 ...   \n",
       "280  Which of the following conditions will ensure ...   \n",
       "281  A pipe full of air is closed at one end. A sta...   \n",
       "282  A photocell of work function ϕ = 2eV is connec...   \n",
       "283  A microwave oven is connected to an outlet, 12...   \n",
       "284  A point charge, Q = +1 mC, is fixed at the ori...   \n",
       "\n",
       "                     subject  \\\n",
       "0    professional_accounting   \n",
       "1    professional_accounting   \n",
       "2    professional_accounting   \n",
       "3    professional_accounting   \n",
       "4    professional_accounting   \n",
       "..                       ...   \n",
       "280      high_school_physics   \n",
       "281      high_school_physics   \n",
       "282      high_school_physics   \n",
       "283      high_school_physics   \n",
       "284      high_school_physics   \n",
       "\n",
       "                                               choices  answer  \n",
       "0                  [$70,000, $75,000, $80,000, 100000]       3  \n",
       "1                    [$13,000, $600, $15,000, $28,000]       0  \n",
       "2                          [$0, $500, $1,650, $16,500]       0  \n",
       "3                  [$5,000, $13,500, $16,000, $20,000]       1  \n",
       "4    [Valuation and allocation, Completeness, Right...       1  \n",
       "..                                                 ...     ...  \n",
       "280  [I and II only, I and III only, II and III onl...       3  \n",
       "281  [The pressure is at a node, but the particle d...       1  \n",
       "282                 [2:00 AM, 6:00 AM, 12:00 AM, 24 A]       3  \n",
       "283                          [10 W, 30 W, 60 W, 240 W]       3  \n",
       "284                       [3.5 J, 6.0 J, 22.5 J, 40 J]       1  \n",
       "\n",
       "[285 rows x 4 columns]"
      ]
     },
     "execution_count": 6,
     "metadata": {},
     "output_type": "execute_result"
    }
   ],
   "source": [
    "df_mmlu_dev"
   ]
  },
  {
   "cell_type": "code",
   "execution_count": 7,
   "metadata": {},
   "outputs": [],
   "source": [
    "# Loading the Perplexity AI API key from sensitive file (NOT pushed to GitHub) as the OpenAI API Key\n",
    "with open('../keys/api_keys.yaml') as f:\n",
    "    os.environ['OPENAI_API_KEY'] = yaml.safe_load(f)['PERPLEXITY_API_KEY']"
   ]
  },
  {
   "cell_type": "code",
   "execution_count": 9,
   "metadata": {},
   "outputs": [
    {
     "data": {
      "text/plain": [
       "AIMessage(content=\"The capital city of Illinois is Springfield. It's located in the central part of the state and is home to several notable attractions, including the Abraham Lincoln Presidential Library and Museum. Springfield has been the capital of Illinois since the state was admitted to the Union in 1818.\")"
      ]
     },
     "execution_count": 9,
     "metadata": {},
     "output_type": "execute_result"
    }
   ],
   "source": [
    "chat = ChatOpenAI(base_url = 'https://api.perplexity.ai', model = 'mistral-7b-instruct')\n",
    "\n",
    "messages = [\n",
    "    SystemMessage(content = \"You are a helpful assistant.\"),\n",
    "    HumanMessage(content = \"What is the capital of Illinois?\")\n",
    "]\n",
    "\n",
    "chat.invoke(messages)"
   ]
  },
  {
   "cell_type": "code",
   "execution_count": null,
   "metadata": {},
   "outputs": [],
   "source": []
  },
  {
   "cell_type": "code",
   "execution_count": null,
   "metadata": {},
   "outputs": [],
   "source": []
  }
 ],
 "metadata": {
  "kernelspec": {
   "display_name": "Python 3 (ipykernel)",
   "language": "python",
   "name": "python3"
  },
  "language_info": {
   "codemirror_mode": {
    "name": "ipython",
    "version": 3
   },
   "file_extension": ".py",
   "mimetype": "text/x-python",
   "name": "python",
   "nbconvert_exporter": "python",
   "pygments_lexer": "ipython3",
   "version": "3.11.7"
  }
 },
 "nbformat": 4,
 "nbformat_minor": 2
}
